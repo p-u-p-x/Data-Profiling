{
  "nbformat": 4,
  "nbformat_minor": 0,
  "metadata": {
    "colab": {
      "provenance": []
    },
    "kernelspec": {
      "name": "python3",
      "display_name": "Python 3"
    },
    "language_info": {
      "name": "python"
    }
  },
  "cells": [
    {
      "cell_type": "markdown",
      "source": [
        "# Data Science Tools and Techniques"
      ],
      "metadata": {
        "id": "7RuOyjYPNm8K"
      }
    },
    {
      "cell_type": "markdown",
      "source": [
        "## Introduction\n",
        "This notebook explores key concepts in data science, including programming languages, libraries, tools, and basic arithmetic operations. It serves as a foundational overview for beginners."
      ],
      "metadata": {
        "id": "XRptW0soNs-6"
      }
    },
    {
      "cell_type": "markdown",
      "source": [
        "## Data Science Languages\n",
        "- Python  \n",
        "- R  \n",
        "- SQL  \n",
        "- Julia  \n",
        "- Scala"
      ],
      "metadata": {
        "id": "H4lyhnlrNx63"
      }
    },
    {
      "cell_type": "markdown",
      "source": [
        "## Data Science Libraries\n",
        "- NumPy  \n",
        "- Pandas  \n",
        "- Matplotlib  \n",
        "- Scikit-learn  \n",
        "- TensorFlow  \n",
        "- ggplot2  \n",
        "- dplyr"
      ],
      "metadata": {
        "id": "F_uQcN2mN0ZP"
      }
    },
    {
      "cell_type": "markdown",
      "source": [
        "## Data Science Tools\n",
        "\n",
        "| Tool            | Description                          |\n",
        "|-----------------|--------------------------------------|\n",
        "| Jupyter Notebook| Interactive coding and documentation |\n",
        "| RStudio         | IDE for R programming                |\n",
        "| GitHub          | Version control and collaboration    |\n",
        "| Tableau         | Data visualization platform          |\n",
        "| Apache Spark    | Big data processing engine           |"
      ],
      "metadata": {
        "id": "lhbe8zVIOAHg"
      }
    },
    {
      "cell_type": "markdown",
      "source": [
        "## Arithmetic Expression Examples\n",
        "Below are examples of basic arithmetic operations such as addition and multiplication."
      ],
      "metadata": {
        "id": "Bt_GVqENOFUh"
      }
    },
    {
      "cell_type": "code",
      "source": [
        "# Multiply and add numbers\n",
        "result = (5 * 3) + 8\n",
        "print(\"Result:\", result)"
      ],
      "metadata": {
        "colab": {
          "base_uri": "https://localhost:8080/"
        },
        "id": "TImZTqWvOTDq",
        "outputId": "efcb0058-df6b-4577-a2ba-e4532809207a"
      },
      "execution_count": 2,
      "outputs": [
        {
          "output_type": "stream",
          "name": "stdout",
          "text": [
            "Result: 23\n"
          ]
        }
      ]
    },
    {
      "cell_type": "code",
      "execution_count": 1,
      "metadata": {
        "colab": {
          "base_uri": "https://localhost:8080/"
        },
        "id": "5dixxHmCMymz",
        "outputId": "7d1975e8-77a6-423f-aed7-7baa755b16f7"
      },
      "outputs": [
        {
          "output_type": "stream",
          "name": "stdout",
          "text": [
            "Hours: 2.5\n"
          ]
        }
      ],
      "source": [
        "# Convert minutes to hours\n",
        "minutes = 150\n",
        "hours = minutes / 60\n",
        "print(\"Hours:\", hours)"
      ]
    },
    {
      "cell_type": "markdown",
      "source": [
        "## Objectives\n",
        "- Understand key data science languages  \n",
        "- Explore popular libraries and tools  \n",
        "- Practice basic arithmetic operations  \n",
        "- Learn how to document and share notebooks  "
      ],
      "metadata": {
        "id": "gIz9Y1dTOZJe"
      }
    },
    {
      "cell_type": "markdown",
      "source": [
        "## Author\n",
        "**Sajeela Noor**"
      ],
      "metadata": {
        "id": "bBhlyxesOc2V"
      }
    },
    {
      "cell_type": "markdown",
      "source": [
        "## GitHub Sharing\n",
        "To share this notebook:\n",
        "1. Save the notebook (.ipynb file).\n",
        "2. Push it to your GitHub repository using Git or GitHub Desktop.\n",
        "3. Share the repository link with your instructor or peers."
      ],
      "metadata": {
        "id": "HThtynWkOgwT"
      }
    },
    {
      "cell_type": "markdown",
      "source": [
        "## Screenshot\n",
        "Insert a screenshot of the first page of your notebook below."
      ],
      "metadata": {
        "id": "daCm2nN7OjZX"
      }
    },
    {
      "cell_type": "code",
      "source": [],
      "metadata": {
        "id": "Ji59p9a3OL5J"
      },
      "execution_count": null,
      "outputs": []
    }
  ]
}